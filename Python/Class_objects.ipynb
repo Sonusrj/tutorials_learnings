{
 "cells": [
  {
   "cell_type": "code",
   "execution_count": 4,
   "id": "56800085-4d80-4037-8f48-f4b645271ebf",
   "metadata": {},
   "outputs": [
    {
     "name": "stdout",
     "output_type": "stream",
     "text": [
      "<class 'list'>\n"
     ]
    }
   ],
   "source": [
    "print(type(l))"
   ]
  },
  {
   "cell_type": "code",
   "execution_count": null,
   "id": "bb84ddae-dbfc-4494-81b1-08e99aa8f431",
   "metadata": {},
   "outputs": [],
   "source": [
    " "
   ]
  },
  {
   "cell_type": "code",
   "execution_count": 1,
   "id": "421fe8d4-a7f0-4459-887d-db363d6b011c",
   "metadata": {},
   "outputs": [],
   "source": [
    "#banking application(ATM Machine)\n",
    "\n",
    "class Atm:\n",
    "    def __init__(self):\n",
    "        self.pin=''\n",
    "        self.balance=0\n",
    "        self.menu()\n",
    "        \n",
    "    def  menu(self):\n",
    "        user_input=input(\"\"\"\n",
    "        Hi, how can i help you?\n",
    "        1.Press 1 to create a pin\n",
    "        2.Press 2 to change pin\n",
    "        3.press 3 to check balance\n",
    "        4.press 4 to withdraw\n",
    "        5.Anything else to EXIT\n",
    "        \"\"\")\n",
    "        \n",
    "        if user_input == '1':\n",
    "            #create pin\n",
    "            self.creat_pin()\n",
    "        elif user_input == '2':\n",
    "            #change\n",
    "            self.change_pin()\n",
    "        elif user_input == '3':\n",
    "            #check\n",
    "            self.check_balance()\n",
    "        elif user_input == '4':\n",
    "            #withdraw\n",
    "            self.withdraw()\n",
    "        else:\n",
    "            exit()\n",
    "            \n",
    "    def creat_pin(self):\n",
    "        user_pin = input('enter your pin')\n",
    "        self.pin = user_pin\n",
    "        \n",
    "        user_balance= int(input('enter balance'))\n",
    "        self.balance=user_balance\n",
    "        print('pin created successfully')\n",
    "        self.menu()\n",
    "    \n",
    "    def change_pin(self):\n",
    "        old_pin= input(\"enter old pin\")\n",
    "        if old_pin==self.pin:\n",
    "            #let him change pin\n",
    "            new_pin=input(\"enter new pin\")\n",
    "            self.pin=new_pin\n",
    "            print('pin changed successfully') \n",
    "            self.menu()\n",
    "        else:\n",
    "            print(\"wrong old pin\")\n",
    "            self.menu()\n",
    "            \n",
    "    def check_balance(self):\n",
    "        user_pin = input('enter your pin')\n",
    "        if user_pin==self.pin:\n",
    "            print('your balance is :',self.balance)\n",
    "            self.menu()\n",
    "        else:\n",
    "            print('wrong pin')\n",
    "            self.menu()\n",
    "            \n",
    "    def withdraw(self):\n",
    "        user_pin=input('entr the pin')\n",
    "        if user_pin == self.pin:\n",
    "            amount=int(input('enter the amount'))\n",
    "            if amount<=self.balance:\n",
    "                self.balance=self.balance-amount\n",
    "                print('withdrawl successful, balance is',self.balance)\n",
    "            else:\n",
    "                print('insufficient balance')\n",
    "        else:\n",
    "            print('wrong pin')\n",
    "        self.menu()\n",
    "        \n",
    "      "
   ]
  },
  {
   "cell_type": "code",
   "execution_count": 8,
   "id": "878632f2-8f98-447e-ad6e-00134fe2219d",
   "metadata": {},
   "outputs": [
    {
     "name": "stdin",
     "output_type": "stream",
     "text": [
      "\n",
      "        Hi, how can i help you?\n",
      "        1.Press 1 to create a pin\n",
      "        2.Press 2 to change pin\n",
      "        3.press 3 to check balance\n",
      "        4.press 4 to withdraw\n",
      "        5.Anything else to EXIT\n",
      "         1\n",
      "enter your pin 123\n",
      "enter balance 10000\n"
     ]
    },
    {
     "name": "stdout",
     "output_type": "stream",
     "text": [
      "pin created successfully\n"
     ]
    },
    {
     "name": "stdin",
     "output_type": "stream",
     "text": [
      "\n",
      "        Hi, how can i help you?\n",
      "        1.Press 1 to create a pin\n",
      "        2.Press 2 to change pin\n",
      "        3.press 3 to check balance\n",
      "        4.press 4 to withdraw\n",
      "        5.Anything else to EXIT\n",
      "         4\n",
      "entr the pin 123\n",
      "enter the amount 12000\n"
     ]
    },
    {
     "name": "stdout",
     "output_type": "stream",
     "text": [
      "insufficient balance\n"
     ]
    },
    {
     "name": "stdin",
     "output_type": "stream",
     "text": [
      "\n",
      "        Hi, how can i help you?\n",
      "        1.Press 1 to create a pin\n",
      "        2.Press 2 to change pin\n",
      "        3.press 3 to check balance\n",
      "        4.press 4 to withdraw\n",
      "        5.Anything else to EXIT\n",
      "         4\n",
      "entr the pin 1234\n"
     ]
    },
    {
     "name": "stdout",
     "output_type": "stream",
     "text": [
      "wrong pin\n"
     ]
    },
    {
     "name": "stdin",
     "output_type": "stream",
     "text": [
      "\n",
      "        Hi, how can i help you?\n",
      "        1.Press 1 to create a pin\n",
      "        2.Press 2 to change pin\n",
      "        3.press 3 to check balance\n",
      "        4.press 4 to withdraw\n",
      "        5.Anything else to EXIT\n",
      "         4\n",
      "entr the pin 123\n",
      "enter the amount 5000\n"
     ]
    },
    {
     "name": "stdout",
     "output_type": "stream",
     "text": [
      "withdrawl succeddful, balance is 5000\n"
     ]
    },
    {
     "name": "stdin",
     "output_type": "stream",
     "text": [
      "\n",
      "        Hi, how can i help you?\n",
      "        1.Press 1 to create a pin\n",
      "        2.Press 2 to change pin\n",
      "        3.press 3 to check balance\n",
      "        4.press 4 to withdraw\n",
      "        5.Anything else to EXIT\n",
      "         3\n",
      "enter your pin 123\n"
     ]
    },
    {
     "name": "stdout",
     "output_type": "stream",
     "text": [
      "your balance is : 5000\n"
     ]
    },
    {
     "name": "stdin",
     "output_type": "stream",
     "text": [
      "\n",
      "        Hi, how can i help you?\n",
      "        1.Press 1 to create a pin\n",
      "        2.Press 2 to change pin\n",
      "        3.press 3 to check balance\n",
      "        4.press 4 to withdraw\n",
      "        5.Anything else to EXIT\n",
      "         8\n"
     ]
    }
   ],
   "source": [
    "obj=Atm()"
   ]
  },
  {
   "cell_type": "code",
   "execution_count": 2,
   "id": "0d415c11-7c83-4e69-b8ad-850cf6fa8f94",
   "metadata": {},
   "outputs": [],
   "source": [
    "class Temp:\n",
    "    def __init__(self):\n",
    "        print('hello')\n",
    "    "
   ]
  },
  {
   "cell_type": "code",
   "execution_count": 3,
   "id": "6aa5f408-13c1-4fad-acce-6d640677efb3",
   "metadata": {},
   "outputs": [
    {
     "name": "stdout",
     "output_type": "stream",
     "text": [
      "hello\n"
     ]
    }
   ],
   "source": [
    "obj = Temp()"
   ]
  },
  {
   "cell_type": "markdown",
   "id": "4b65ae46-a29b-49e2-8e1b-83cd6f975b88",
   "metadata": {},
   "source": [
    "`Creating a fraction datatype`"
   ]
  },
  {
   "cell_type": "code",
   "execution_count": 4,
   "id": "83075740-2f73-4ed7-ac2b-97b7b006c576",
   "metadata": {},
   "outputs": [
    {
     "data": {
      "text/plain": [
       "0.375"
      ]
     },
     "execution_count": 4,
     "metadata": {},
     "output_type": "execute_result"
    }
   ],
   "source": [
    "3/4*1/2"
   ]
  },
  {
   "cell_type": "code",
   "execution_count": 47,
   "id": "2a2e3267-ddb5-433c-bcd4-2d7df00684c7",
   "metadata": {},
   "outputs": [],
   "source": [
    "class Fraction:\n",
    "    \n",
    "    def __init__(self,x,y):\n",
    "        self.num=x\n",
    "        self.den=y\n",
    "        \n",
    "    def __str__(self):\n",
    "        return '{}/{}'.format(self.num,self.den)\n",
    "    \n",
    "    def __add__(self,other): ##cross mul\n",
    "        new_num = self.num*other.den + other.num*self.den\n",
    "        new_den = self.den*other.den\n",
    "        return '{}/{}'.format(new_num,new_den)\n",
    "    \n",
    "    def __sub__(self,other): ##cross sub\n",
    "        new_num = self.num*other.den - other.num*self.den\n",
    "        new_den = self.den*other.den\n",
    "        return '{}/{}'.format(new_num,new_den)\n",
    "    \n",
    "    def __mul__(self,other): # direct mul\n",
    "        new_num = self.num*other.num\n",
    "        new_den = self.den*other.den\n",
    "        return '{}/{}'.format(new_num,new_den)\n",
    "    \n",
    "    def __truediv__(self,other): #interchanging 2nd fraction\n",
    "        new_num = self.num*other.den\n",
    "        new_den = self.den*other.num\n",
    "        return '{}/{}'.format(new_num,new_den)"
   ]
  },
  {
   "cell_type": "code",
   "execution_count": 48,
   "id": "2158630d-7eca-4b44-8126-eae3f57223f5",
   "metadata": {},
   "outputs": [],
   "source": [
    "fr1=Fraction(2,2)"
   ]
  },
  {
   "cell_type": "code",
   "execution_count": 49,
   "id": "4668471f-036b-4a05-a007-63fd935015a9",
   "metadata": {},
   "outputs": [
    {
     "name": "stdout",
     "output_type": "stream",
     "text": [
      "2/2\n"
     ]
    }
   ],
   "source": [
    "print(fr1)"
   ]
  },
  {
   "cell_type": "code",
   "execution_count": 62,
   "id": "817d5730-f38c-41b5-9955-0255ae64c08d",
   "metadata": {},
   "outputs": [],
   "source": [
    "fr1=Fraction(2,3)\n",
    "fr2=Fraction(1,2)"
   ]
  },
  {
   "cell_type": "code",
   "execution_count": 63,
   "id": "b530b002-13bd-487c-a942-e6552e1008c2",
   "metadata": {},
   "outputs": [
    {
     "name": "stdout",
     "output_type": "stream",
     "text": [
      "add: 7/6\n",
      "sub: 1/6\n",
      "mul: 2/6\n",
      "div: 4/3\n"
     ]
    }
   ],
   "source": [
    "print('add:',fr1+fr2)\n",
    "print('sub:',fr1-fr2)\n",
    "print('mul:',fr1*fr2)\n",
    "print('div:',fr1/fr2)"
   ]
  },
  {
   "cell_type": "code",
   "execution_count": 65,
   "id": "ca10ad32-c4c2-4ae8-88d5-861b7c486d35",
   "metadata": {},
   "outputs": [],
   "source": [
    "class NyFrac:\n",
    "    \n",
    "    def add(self,other):\n",
    "        new_num = self.num*other.den + other.num*self.den\n",
    "        new_den = self.den*other.den\n",
    "        return '{}/{}'.format(new_num,new_den)"
   ]
  },
  {
   "cell_type": "code",
   "execution_count": 66,
   "id": "8b49ab45-82cd-48a0-9045-841cf573d273",
   "metadata": {},
   "outputs": [
    {
     "ename": "TypeError",
     "evalue": "NyFrac() takes no arguments",
     "output_type": "error",
     "traceback": [
      "\u001b[0;31m---------------------------------------------------------------------------\u001b[0m",
      "\u001b[0;31mTypeError\u001b[0m                                 Traceback (most recent call last)",
      "Cell \u001b[0;32mIn[66], line 1\u001b[0m\n\u001b[0;32m----> 1\u001b[0m \u001b[43mNyFrac\u001b[49m\u001b[43m(\u001b[49m\u001b[38;5;241;43m2\u001b[39;49m\u001b[43m,\u001b[49m\u001b[38;5;241;43m2\u001b[39;49m\u001b[43m)\u001b[49m\n",
      "\u001b[0;31mTypeError\u001b[0m: NyFrac() takes no arguments"
     ]
    }
   ],
   "source": [
    "NyFrac(2,2)"
   ]
  },
  {
   "cell_type": "code",
   "execution_count": null,
   "id": "bdb75fc0-d13a-4f36-a943-927b98357978",
   "metadata": {},
   "outputs": [],
   "source": []
  }
 ],
 "metadata": {
  "kernelspec": {
   "display_name": "Python 3 (ipykernel)",
   "language": "python",
   "name": "python3"
  },
  "language_info": {
   "codemirror_mode": {
    "name": "ipython",
    "version": 3
   },
   "file_extension": ".py",
   "mimetype": "text/x-python",
   "name": "python",
   "nbconvert_exporter": "python",
   "pygments_lexer": "ipython3",
   "version": "3.10.8"
  }
 },
 "nbformat": 4,
 "nbformat_minor": 5
}
